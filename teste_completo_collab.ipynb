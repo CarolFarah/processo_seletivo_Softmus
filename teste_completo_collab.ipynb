{
  "nbformat": 4,
  "nbformat_minor": 0,
  "metadata": {
    "colab": {
      "name": "teste_final.ipynb",
      "provenance": [],
      "collapsed_sections": []
    },
    "kernelspec": {
      "name": "python3",
      "display_name": "Python 3"
    },
    "language_info": {
      "name": "python"
    }
  },
  "cells": [
    {
      "cell_type": "markdown",
      "metadata": {
        "id": "mCGh4F_AeXh3"
      },
      "source": [
        "Caderno resposta do teste para processo seletivo realizado por Ana Carolina de Oliveira Farah (anacarolfarah@gmail.com)"
      ]
    },
    {
      "cell_type": "markdown",
      "metadata": {
        "id": "BKX3GUAiZvZ8"
      },
      "source": [
        "1: Vetores não ordenados (versão 1)"
      ]
    },
    {
      "cell_type": "code",
      "metadata": {
        "colab": {
          "base_uri": "https://localhost:8080/"
        },
        "id": "al3autDVaedb",
        "outputId": "9093011e-4c1a-4936-cf23-4dedd58c3cfb"
      },
      "source": [
        "nomes = []\n",
        "idades = []\n",
        "\n",
        "for i in range(5):\n",
        "    nomes.append(input(\"Digite o nome: \"))\n",
        "    idades.append(int(input(\"Digite a idade: \")))"
      ],
      "execution_count": null,
      "outputs": [
        {
          "output_type": "stream",
          "name": "stdout",
          "text": [
            "Digite o nome: aaa\n",
            "Digite a idade: 222\n",
            "Digite o nome: ccc\n",
            "Digite a idade: 555\n",
            "[222, 555]\n",
            "['aaa', 'ccc']\n"
          ]
        }
      ]
    },
    {
      "cell_type": "markdown",
      "metadata": {
        "id": "wf_QYJMMfJhC"
      },
      "source": [
        "1: Vetores não ordenados (versão 2)\n"
      ]
    },
    {
      "cell_type": "code",
      "metadata": {
        "colab": {
          "base_uri": "https://localhost:8080/"
        },
        "id": "cmpiaV-tfUoZ",
        "outputId": "da1309ab-6be6-48e7-c949-67916f540138"
      },
      "source": [
        "pessoas = []\n",
        "\n",
        "for i in range(5):\n",
        "    nome = input(\"Digite o nome \")\n",
        "    idade = int(input('Digite a idade '))\n",
        "    pessoas.append([nome, idade])"
      ],
      "execution_count": null,
      "outputs": [
        {
          "output_type": "stream",
          "name": "stdout",
          "text": [
            "Digite o nome wwww\n",
            "Digite a idade 44\n",
            "Digite o nome ggg\n",
            "Digite a idade 33\n",
            "[['wwww', 44], ['ggg', 33]]\n"
          ]
        }
      ]
    },
    {
      "cell_type": "markdown",
      "metadata": {
        "id": "JP5sfimggzcw"
      },
      "source": [
        "2:  \n",
        "\n",
        "1.   FIFO (First-In First-Out) => É o conceito de **fila**: o primeiro elemento a entrar em uma sequência é o primeiro a sair.\n",
        "\n",
        "2.   LIFO (Last-In First-Out) => É o conceito de **pilha**: o primeiro elemento a entrar em uma sequência é o último a sair.\n",
        "\n"
      ]
    },
    {
      "cell_type": "markdown",
      "metadata": {
        "id": "7669Z4MFh8bP"
      },
      "source": [
        "3: Optei por criar uma função contendo os métodos pois tive dúvida no entendimento do enunciado."
      ]
    },
    {
      "cell_type": "code",
      "metadata": {
        "colab": {
          "base_uri": "https://localhost:8080/"
        },
        "id": "T_p2neWtiLNJ",
        "outputId": "f75f0529-3cdd-4da6-bda7-ac62d0a1bd27"
      },
      "source": [
        "lista = {\"Nova Zelândia\": \"Wellington\", \"Estados Unidos\": 'Washington', 'Brasil': \"Brasília\", \"Siria\": \"Damasco\", \"Libano\": 'Beirute', \"Japão\": 'Tóquio', \"Itália\": 'Roma', \"Inglaterra\": 'Londres', \"Irlanda\": \"Dublin\", \"Coréia do Sul\": \"Seul\", \"Austrália\": 'Camberra', \"África do Sul\": [\"Cidade do Cabo\", 'Pretória', \"Bloemfontein\"], \"Egito\": \"Cairo\", \"Angola\": 'Luanda'}\n",
        "\n",
        "def sortList(l):\n",
        "    print(f\"Lista ordenada pelos países: {sorted(lista.items(), key=lambda x: x[0])}\")\n",
        "    print(f\"Lista ordenada pelas capitais: {sorted(lista.items(), key=lambda x: x[1][0])}\")"
      ],
      "execution_count": null,
      "outputs": [
        {
          "output_type": "stream",
          "name": "stdout",
          "text": [
            "Lista ordenada pelos países: [('Angola', 'Luanda'), ('Austrália', 'Camberra'), ('Brasil', 'Brasília'), ('Coréia do Sul', 'Seul'), ('Egito', 'Cairo'), ('Estados Unidos', 'Washington'), ('Inglaterra', 'Londres'), ('Irlanda', 'Dublin'), ('Itália', 'Roma'), ('Japão', 'Tóquio'), ('Libano', 'Beirute'), ('Nova Zelândia', 'Wellington'), ('Siria', 'Damasco'), ('África do Sul', ['Cidade do Cabo', 'Pretória', 'Bloemfontein'])]\n",
            "Lista ordenada pelas capitais: [('Brasil', 'Brasília'), ('Libano', 'Beirute'), ('Austrália', 'Camberra'), ('Egito', 'Cairo'), ('África do Sul', ['Cidade do Cabo', 'Pretória', 'Bloemfontein']), ('Siria', 'Damasco'), ('Irlanda', 'Dublin'), ('Inglaterra', 'Londres'), ('Angola', 'Luanda'), ('Itália', 'Roma'), ('Coréia do Sul', 'Seul'), ('Japão', 'Tóquio'), ('Nova Zelândia', 'Wellington'), ('Estados Unidos', 'Washington')]\n",
            "None\n"
          ]
        }
      ]
    },
    {
      "cell_type": "code",
      "metadata": {
        "id": "6FN3lE_50HMD"
      },
      "source": [
        ""
      ],
      "execution_count": null,
      "outputs": []
    },
    {
      "cell_type": "markdown",
      "metadata": {
        "id": "LJ4cR5kBZpqd"
      },
      "source": [
        "Lógica de Programação (questão 3):\n",
        "\n",
        "\n",
        "\n"
      ]
    },
    {
      "cell_type": "code",
      "metadata": {
        "colab": {
          "base_uri": "https://localhost:8080/"
        },
        "id": "V7Vg7Tl203kX",
        "outputId": "d3053fcd-60cd-44b7-e9ea-ff373e2df125"
      },
      "source": [
        "def contandoVales(passos, caminho):\n",
        "    soma = 0\n",
        "    vales = 0\n",
        "    n = 0\n",
        "   \n",
        "    for p in range(passos):\n",
        "        if caminho[p] in 'dD':\n",
        "            n += -1\n",
        "            soma = + n\n",
        "            if soma == -1:\n",
        "                vales = vales+1\n",
        "          \n",
        "        elif caminho[p] in 'sS':\n",
        "            n += 1\n",
        "            soma = + n\n",
        "        \n",
        "    return vales "
      ],
      "execution_count": null,
      "outputs": [
        {
          "output_type": "stream",
          "name": "stdout",
          "text": [
            "1\n"
          ]
        }
      ]
    },
    {
      "cell_type": "markdown",
      "metadata": {
        "id": "LLQkzavO_2Ts"
      },
      "source": [
        "Lógica de Programação - versão com uma única variável (questão 3):"
      ]
    },
    {
      "cell_type": "code",
      "metadata": {
        "colab": {
          "base_uri": "https://localhost:8080/"
        },
        "id": "79Bu2eEl-OJV",
        "outputId": "9b1806d8-4c55-427c-dd32-f5d7f4f1bf67"
      },
      "source": [
        "def contandoVales(caminho):\n",
        "    soma = 0\n",
        "    vales = 0\n",
        "    n = 0\n",
        "   \n",
        "    for p in range(len(caminho)):\n",
        "        if caminho[p] in 'dD':\n",
        "            n += -1\n",
        "            soma = + n\n",
        "            if soma == -1:\n",
        "                vales = vales+1\n",
        "          \n",
        "        elif caminho[p] in 'sS':\n",
        "            n += 1\n",
        "            soma = + n\n",
        "        \n",
        "    return vales "
      ],
      "execution_count": null,
      "outputs": [
        {
          "output_type": "stream",
          "name": "stdout",
          "text": [
            "2\n"
          ]
        }
      ]
    }
  ]
}